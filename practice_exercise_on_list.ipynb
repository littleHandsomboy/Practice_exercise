{
 "cells": [
  {
   "cell_type": "code",
   "execution_count": null,
   "metadata": {},
   "outputs": [],
   "source": [
    "# The following will be helpful in you practice exercise\n",
    "\n",
    "\n",
    "string_list = ['A', 'B', 'C', 'D']\n",
    "num_list = [22, 56, 10, 31]\n",
    "\n",
    "paired_list = list(zip(string_list, num_list))\n",
    "print(paired_list) # OUTPUT: [('A', 22), ('B', 56), ('C', 10), ('D', 31)]\n",
    "\n",
    "num_string_list = [(num, str) for str, num in paired_list]\n",
    "print(num_string_list) # OUTPUT: [(22, 'A'), (56, 'B'), (10, 'C'), (31, 'D')]\n",
    "\n",
    "sorted_num_string_list = sorted(num_string_list, reverse = True)\n",
    "print(sorted_num_string_list) # OUTPUT: [(56, 'B'), (31, 'D'), (22, 'A'), (10, 'C')]\n",
    "\n",
    "string_num_list = [(str, num) for num, str in sorted_num_string_list]\n",
    "print(string_num_list) # OUTPUT: [('B', 56), ('D', 31), ('A', 22), ('C', 10)]\n",
    "\n",
    "top_two_list = string_num_list[:2]\n",
    "for str, num in top_two_list:\n",
    "    print(f'{str} - {num}') # OUTPUT: B - 56, D - 31"
   ]
  },
  {
   "cell_type": "markdown",
   "metadata": {},
   "source": [
    "For the practice exercise, you will write a small program that will accept a list of student names and grades, and allow you to view them and perform basic operations on them.\n",
    "\n",
    "REQUIREMENTS:\n",
    "1. Accept a list of 10 names from the user. Each name must be separated by a comma \n",
    "2. Similarly, accept a list of 10 grades (0 - 5). Each grade must be separated by a comma\n",
    "    2.1. Grades must be stored as integers after accepting them as inputs. (HINT: Use typecasting)\n",
    "3. Store in a variable both the names and the grades together. (HINT: Use zip())\n",
    "4. Display to the user the different options that they can choose from to interact with the program\n",
    "    4.1. First option is to view the student with the highest grade.\n",
    "    4.2. Second option is to view top three students with the highest grade (HINT: Use sorted())\n",
    "    4.3. Third option is to view the students with the lowest grade\n",
    "    4.4. Fourth option is to get the total number of students that failed\n",
    "    4.5. Quit the program\n",
    "5. Use only the methods you have learned so far, including list methods and list comprehension. "
   ]
  },
  {
   "cell_type": "code",
   "execution_count": 4,
   "metadata": {},
   "outputs": [
    {
     "name": "stdout",
     "output_type": "stream",
     "text": [
      "[(1, 'aaa'), (2, 'bbb'), (3, 'ccc'), (4, 'ddd'), (5, 'eee'), (5, 'fff'), (4, 'ggg'), (2, 'hhh'), (3, 'iii'), (4, 'jjj')]\n",
      "[(1, 'aaa'), (2, 'bbb'), (2, 'hhh'), (3, 'ccc'), (3, 'iii'), (4, 'ddd'), (4, 'ggg'), (4, 'jjj'), (5, 'eee'), (5, 'fff')]\n",
      "You can choose a opeation below :\n",
      "1. To view the student with the highest grade.\n",
      "2. To view top three students with the highest grade.\n",
      "3. To view the students with the lowest grade.\n",
      "4. To get the total number of students that failed.\n",
      "5. Quit the program\n",
      "Bye Bye\n"
     ]
    }
   ],
   "source": [
    "# Write your program here\n",
    "name_list = [\"aaa\",\"bbb\",\"ccc\",\"ddd\",\"eee\",\"fff\",\"ggg\",\"hhh\",\"iii\",\"jjj\"]\n",
    "score_list = [1,2,3,4,5,5,4,2,3,4]\n",
    "# input and value\n",
    "# name_list = []\n",
    "# score_list = []\n",
    "# count = 1\n",
    "# while count<=10:\n",
    "#     temp = input(f\"Give the name {count} :\")\n",
    "#     name_list.append(temp)\n",
    "#     count = count +1\n",
    "# count = 1\n",
    "# print (f\"The name list:{name_list}\")\n",
    "# while count <=10:\n",
    "#     temp = int(input(f\"Give the score {count} :\"))\n",
    "#     if temp>=0 and temp<=5 and isinstance(temp,int):\n",
    "#         score_list.append(temp)\n",
    "#         count = count +1\n",
    "#     else:\n",
    "#         print(\"sorry pleace give the number 0-5 with int\")\n",
    "# print (f\"The name list:{score_list}\")\n",
    "\n",
    "paired_list = list(zip(score_list,name_list))\n",
    "print(paired_list)\n",
    "sorted_list = sorted(paired_list,reverse=True)\n",
    "print(sorted_list)\n",
    "print('You can choose a opeation below :')\n",
    "print(\"1. To view the student with the highest grade.\")\n",
    "print(\"2. To view top three students with the highest grade.\")\n",
    "print(\"3. To view the students with the lowest grade.\")\n",
    "print(\"4. To get the total number of students that failed.\")\n",
    "print(\"5. Quit the program\")\n",
    "\n",
    "while True:\n",
    "    num = int(input(\"Give a number : (1-5)\"))\n",
    "    if num ==5:\n",
    "        print(\"Bye Bye\")\n",
    "        break\n",
    "    elif num == 4:\n",
    "        failed_students = list((names, grades) for grades, names in sorted_list if grades<3)\n",
    "        print(failed_students)  \n",
    "    elif num ==3 :\n",
    "        print(f\"Lowest Gread student :{sorted_list[-1]}\")\n",
    "    elif num ==2 :   \n",
    "        print(f\"-1: {sorted_list[-1]}\")\n",
    "        print(f\"-2: {sorted_list[-2]}\")\n",
    "        print(f\"-3: {sorted_list[-3]}\")\n",
    "    elif num ==1 :\n",
    "        high = sorted_list[0][0]\n",
    "        max_students = list((names, grades) for grades, names in sorted_list if grades==high)\n",
    "        print(max_students)        \n",
    "    else:\n",
    "        print(\"You should input Right value Pleace try Again\")\n",
    "        continue"
   ]
  },
  {
   "cell_type": "code",
   "execution_count": null,
   "metadata": {},
   "outputs": [],
   "source": []
  }
 ],
 "metadata": {
  "kernelspec": {
   "display_name": "Python 3",
   "language": "python",
   "name": "python3"
  },
  "language_info": {
   "codemirror_mode": {
    "name": "ipython",
    "version": 3
   },
   "file_extension": ".py",
   "mimetype": "text/x-python",
   "name": "python",
   "nbconvert_exporter": "python",
   "pygments_lexer": "ipython3",
   "version": "3.10.4"
  }
 },
 "nbformat": 4,
 "nbformat_minor": 2
}
